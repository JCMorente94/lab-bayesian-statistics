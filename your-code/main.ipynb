{
 "cells": [
  {
   "cell_type": "markdown",
   "metadata": {},
   "source": [
    "# Intro to Bayesian Statistics Lab\n",
    "\n",
    "Complete the following set of exercises to solidify your knowledge of Bayesian statistics and Bayesian data analysis."
   ]
  },
  {
   "cell_type": "code",
   "execution_count": 4,
   "metadata": {
    "ExecuteTime": {
     "end_time": "2020-03-24T09:22:11.885835Z",
     "start_time": "2020-03-24T09:22:07.409259Z"
    }
   },
   "outputs": [],
   "source": [
    "import pandas as pd\n",
    "import numpy as np\n",
    "import matplotlib.pyplot as plt\n",
    "from scipy import stats"
   ]
  },
  {
   "cell_type": "markdown",
   "metadata": {},
   "source": [
    "## 1. Cookie Problem\n",
    "\n",
    "Suppose we have two bowls of cookies. Bowl 1 contains 30 vanilla cookies and 10 chocolate cookies. Bowl 2 contains 20 of each. You randomly pick one cookie out of one of the bowls, and it is vanilla. Use Bayes Theorem to calculate the probability that the vanilla cookie you picked came from Bowl 1?"
   ]
  },
  {
   "cell_type": "markdown",
   "metadata": {},
   "source": [
    "- Bowl 1 - B1\n",
    "- Bowl 2 - B2\n",
    "- Vainilla - V\n",
    "- Chocolate - C\n",
    "\n",
    "$\\large P(B1|V) = \\frac{P(V|B1) \\cdot P(B1)}{P(V|B1) \\cdot P(B1) + P(V|B2) \\cdot P(B2)} =  \\frac{1/2 \\cdot 3/4}{3/4 \\cdot 1/2 + 1/2 \\cdot 1/2} = 3/5$"
   ]
  },
  {
   "cell_type": "markdown",
   "metadata": {},
   "source": [
    "What is the probability that it came from Bowl 2?"
   ]
  },
  {
   "cell_type": "markdown",
   "metadata": {
    "ExecuteTime": {
     "end_time": "2020-03-21T10:43:55.957428Z",
     "start_time": "2020-03-21T10:43:55.733121Z"
    }
   },
   "source": [
    "$\\large P(B2|V) = \\frac{P(V|B2) \\cdot P(B2)}{P(V|B2) \\cdot P(B2) + P(V|B1) \\cdot P(B1)} =  \\frac{1/2 \\cdot 1/2}{1/2 \\cdot 1/2 + 3/4 \\cdot 1/2} = 2/5$"
   ]
  },
  {
   "cell_type": "markdown",
   "metadata": {},
   "source": [
    "What if the cookie you had picked was chocolate? What are the probabilities that the chocolate cookie came from Bowl 1 and Bowl 2 respectively?"
   ]
  },
  {
   "cell_type": "markdown",
   "metadata": {},
   "source": [
    "$\\large P(B1|C) = \\frac{P(C|B1) \\cdot P(B1)}{P(C|B1) \\cdot P(B1) + P(C|B2) \\cdot P(B2)} =  \\frac{1/4 \\cdot 1/2}{1/4 \\cdot 1/2 + 1/2 \\cdot 1/2} = 1/3$\n",
    "\n",
    "$\\large P(B2|C) = \\frac{P(C|B2) \\cdot P(B2)}{P(C|B1) \\cdot P(B1) + P(C|B2) \\cdot P(B2)} =  \\frac{1/2 \\cdot 1/2}{1/4 \\cdot 1/2 + 1/2 \\cdot 1/2} = 2/3$"
   ]
  },
  {
   "cell_type": "markdown",
   "metadata": {},
   "source": [
    "## 2. Candy Problem\n",
    "\n",
    "Suppose you have two bags of candies:\n",
    "\n",
    "- In Bag 1, the mix of colors is:\n",
    "    - Brown - 30%\n",
    "    - Yellow - 20%\n",
    "    - Red - 20%\n",
    "    - Green - 10%\n",
    "    - Orange - 10%\n",
    "    - Tan - 10%\n",
    "    \n",
    "- In Bag 2, the mix of colors is:\n",
    "    - Blue - 24%\n",
    "    - Green - 20%\n",
    "    - Orange - 16%\n",
    "    - Yellow - 14%\n",
    "    - Red - 13%\n",
    "    - Brown - 13%\n",
    "    \n",
    "Not knowing which bag is which, you randomly draw one candy from each bag. One is yellow and one is green. What is the probability that the yellow one came from the Bag 1?\n",
    "\n",
    "*Hint: For the likelihoods, you will need to multiply the probabilities of drawing yellow from one bag and green from the other bag and vice versa.*"
   ]
  },
  {
   "cell_type": "markdown",
   "metadata": {},
   "source": [
    "- A: first Bag 1 and second Bag 2\n",
    "- B: first Bag 2 and second Bag 1\n",
    "- X: Yellow from first and Green from second\n",
    "\n",
    "\n",
    "$\\large P(A|X) =  \\frac {P(X|A) \\cdot P(A)}{P(X|A) \\cdot P(A) + P(X|B) \\cdot P(B)} = \\frac {0.2 \\cdot 0.2 \\cdot 1/2}{0.2 \\cdot 0.2 \\cdot 1/2 + 0.1 \\cdot 0.14 \\cdot 1/2} = 0.741 $\n",
    "\n"
   ]
  },
  {
   "cell_type": "markdown",
   "metadata": {},
   "source": [
    "What is the probability that the yellow candy came from Bag 2?"
   ]
  },
  {
   "cell_type": "markdown",
   "metadata": {},
   "source": [
    "\n",
    "$\\large P(B|X) =  \\frac {P(X|B) \\cdot P(B)}{P(X|A) \\cdot P(A) + P(X|B) \\cdot P(B)} = \\frac {0.1 \\cdot 0.14 \\cdot 1/2}{0.2 \\cdot 0.2 \\cdot 1/2 + 0.1 \\cdot 0.14 \\cdot 1/2} = 0.259 $"
   ]
  },
  {
   "cell_type": "markdown",
   "metadata": {},
   "source": [
    "What are the probabilities that the green one came from Bag 1 and Bag 2 respectively?"
   ]
  },
  {
   "cell_type": "markdown",
   "metadata": {},
   "source": [
    "- A: first Bag 1 and second Bag 2\n",
    "- B: first Bag 2 and second Bag 1\n",
    "- X: Yellow from first and Green from second\n",
    "- Y: Green from first and Yellow from second\n",
    "\n",
    "$\\large P(A|Y) = P(B|X) = 0.259$\n",
    "\n",
    "$\\large P(B|Y) = P(A|X) = 0.741$\n"
   ]
  },
  {
   "cell_type": "markdown",
   "metadata": {},
   "source": [
    "## 3. Monty Hall Problem\n",
    "\n",
    "Suppose you are a contestant on the popular game show *Let's Make a Deal*. The host of the show (Monty Hall) presents you with three doors - Door A, Door B, and Door C. He tells you that there is a sports car behind one of them and if you choose the correct one, you win the car!\n",
    "\n",
    "You select Door A, but then Monty makes things a little more interesting. He opens Door B to reveal that there is no sports car behind it and asks you if you would like to stick with your choice of Door A or switch your choice to Door C. Given this new information, what are the probabilities of you winning the car if you stick with Door A versus if you switch to Door C?"
   ]
  },
  {
   "cell_type": "markdown",
   "metadata": {},
   "source": [
    "    Supongamos sin perdida de generalidad que el concursante eligio la puerta A.\n",
    "    Entonces tenemos que:\n",
    "    La probabilidad de que el coche se encuentre en la puerta A es de 1/3\n",
    "    La probabilidad de que el coche se encuentre en las otras dos puertas es de 2/3\n",
    "    A continuacion el presentador abre una de las otras dos puertas B o C,\n",
    "    independientemente de cual abra, la probabilidad de la que no ha abierto seguira siendo de 2/3\n",
    "\n",
    "    Si el concursante se queda con la que eligio al principio tiene probabilidad de 1/3\n",
    "    Si el concursante cambia de puerta la probabilidad es de 2/3"
   ]
  },
  {
   "cell_type": "markdown",
   "metadata": {},
   "source": [
    "## 4. Bayesian Analysis \n",
    "\n",
    "Suppose you work for a landscaping company, and they want to advertise their service online. They create an ad and sit back waiting for the money to roll in. On the first day, the ad sends 100 visitors to the site and 14 of them sign up for landscaping services. Create a generative model to come up with the posterior distribution and produce a visualization of what the posterior distribution would look like given the observed data."
   ]
  },
  {
   "cell_type": "markdown",
   "metadata": {},
   "source": [
    "Produce a set of descriptive statistics for the posterior distribution."
   ]
  },
  {
   "cell_type": "code",
   "execution_count": 5,
   "metadata": {
    "ExecuteTime": {
     "end_time": "2020-03-24T09:22:14.891758Z",
     "start_time": "2020-03-24T09:22:13.753843Z"
    }
   },
   "outputs": [
    {
     "data": {
      "text/plain": [
       "<matplotlib.axes._subplots.AxesSubplot at 0x186d49121c8>"
      ]
     },
     "execution_count": 5,
     "metadata": {},
     "output_type": "execute_result"
    },
    {
     "data": {
      "image/png": "[encoded data removed]",
      "text/plain": [
       "<Figure size 432x288 with 1 Axes>"
      ]
     },
     "metadata": {
      "needs_background": "light"
     },
     "output_type": "display_data"
    }
   ],
   "source": [
    "n_draws = 100000\n",
    "prior = pd.Series(stats.uniform(0,1).rvs(n_draws))\n",
    "prior.hist(bins=20)"
   ]
  },
  {
   "cell_type": "markdown",
   "metadata": {},
   "source": [
    "What is the 90% credible interval range?"
   ]
  },
  {
   "cell_type": "code",
   "execution_count": 8,
   "metadata": {
    "ExecuteTime": {
     "end_time": "2020-03-24T09:23:17.646501Z",
     "start_time": "2020-03-24T09:23:16.833933Z"
    }
   },
   "outputs": [
    {
     "data": {
      "text/plain": [
       "<matplotlib.axes._subplots.AxesSubplot at 0x186d4a3f188>"
      ]
     },
     "execution_count": 8,
     "metadata": {},
     "output_type": "execute_result"
    },
    {
     "data": {
      "image/png": "[encoded data removed]",
      "text/plain": [
       "<Figure size 432x288 with 1 Axes>"
      ]
     },
     "metadata": {
      "needs_background": "light"
     },
     "output_type": "display_data"
    }
   ],
   "source": [
    "observed = 14\n",
    "def generative_model(param):\n",
    "    result = np.random.binomial(90, param)\n",
    "    return result\n",
    "\n",
    "sim_data = prior.apply(lambda p: generative_model(p))\n",
    "sim_data.hist()"
   ]
  },
  {
   "cell_type": "code",
   "execution_count": 11,
   "metadata": {
    "ExecuteTime": {
     "end_time": "2020-03-24T09:24:45.636285Z",
     "start_time": "2020-03-24T09:24:45.409876Z"
    }
   },
   "outputs": [
    {
     "data": {
      "text/plain": [
       "<matplotlib.axes._subplots.AxesSubplot at 0x186d4ae2308>"
      ]
     },
     "execution_count": 11,
     "metadata": {},
     "output_type": "execute_result"
    },
    {
     "data": {
      "image/png": "[encoded data removed]",
      "text/plain": [
       "<Figure size 432x288 with 1 Axes>"
      ]
     },
     "metadata": {
      "needs_background": "light"
     },
     "output_type": "display_data"
    }
   ],
   "source": [
    "posterior = prior[sim_data == observed]\n",
    "posterior.hist()"
   ]
  },
  {
   "cell_type": "code",
   "execution_count": 14,
   "metadata": {
    "ExecuteTime": {
     "end_time": "2020-03-24T09:47:30.831212Z",
     "start_time": "2020-03-24T09:47:30.549170Z"
    }
   },
   "outputs": [
    {
     "data": {
      "text/plain": [
       "count    1112.000000\n",
       "mean        0.161033\n",
       "std         0.037870\n",
       "min         0.053480\n",
       "25%         0.135325\n",
       "50%         0.159655\n",
       "75%         0.185391\n",
       "max         0.305785\n",
       "dtype: float64"
      ]
     },
     "execution_count": 14,
     "metadata": {},
     "output_type": "execute_result"
    }
   ],
   "source": [
    "posterior.describe()"
   ]
  },
  {
   "cell_type": "markdown",
   "metadata": {},
   "source": [
    "What is the Maximum Likelihood Estimate?"
   ]
  },
  {
   "cell_type": "code",
   "execution_count": 12,
   "metadata": {
    "ExecuteTime": {
     "end_time": "2020-03-24T09:25:08.433663Z",
     "start_time": "2020-03-24T09:25:08.353796Z"
    }
   },
   "outputs": [
    {
     "name": "stdout",
     "output_type": "stream",
     "text": [
      "Maximum Likelihood Estimate:  0.17 | 0.11600719424460432\n"
     ]
    }
   ],
   "source": [
    "rounded = posterior.round(2)\n",
    "mode = rounded.mode()[0]\n",
    "probability = list(rounded).count(mode)/len(rounded)\n",
    "print('Maximum Likelihood Estimate: ', mode, '|',probability)"
   ]
  },
  {
   "cell_type": "code",
   "execution_count": null,
   "metadata": {},
   "outputs": [],
   "source": []
  }
 ],
 "metadata": {
  "kernelspec": {
   "display_name": "Python 3",
   "language": "python",
   "name": "python3"
  },
  "language_info": {
   "codemirror_mode": {
    "name": "ipython",
    "version": 3
   },
   "file_extension": ".py",
   "mimetype": "text/x-python",
   "name": "python",
   "nbconvert_exporter": "python",
   "pygments_lexer": "ipython3",
   "version": "3.7.4"
  },
  "toc": {
   "base_numbering": 1,
   "nav_menu": {},
   "number_sections": true,
   "sideBar": true,
   "skip_h1_title": false,
   "title_cell": "Table of Contents",
   "title_sidebar": "Contents",
   "toc_cell": false,
   "toc_position": {},
   "toc_section_display": true,
   "toc_window_display": false
  },
  "varInspector": {
   "cols": {
    "lenName": 16,
    "lenType": 16,
    "lenVar": 40
   },
   "kernels_config": {
    "python": {
     "delete_cmd_postfix": "",
     "delete_cmd_prefix": "del ",
     "library": "var_list.py",
     "varRefreshCmd": "print(var_dic_list())"
    },
    "r": {
     "delete_cmd_postfix": ") ",
     "delete_cmd_prefix": "rm(",
     "library": "var_list.r",
     "varRefreshCmd": "cat(var_dic_list()) "
    }
   },
   "types_to_exclude": [
    "module",
    "function",
    "builtin_function_or_method",
    "instance",
    "_Feature"
   ],
   "window_display": false
  }
 },
 "nbformat": 4,
 "nbformat_minor": 2
}
